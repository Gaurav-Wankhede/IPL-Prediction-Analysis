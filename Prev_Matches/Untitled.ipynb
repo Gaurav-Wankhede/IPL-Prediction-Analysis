{
 "cells": [
  {
   "cell_type": "code",
   "execution_count": 57,
   "id": "ff802c8d-93b0-48d6-a67d-fcc20ac8ceae",
   "metadata": {},
   "outputs": [],
   "source": [
    "import os\n",
    "import re\n",
    "import pandas as pd\n",
    "from selenium.webdriver.common.by import By\n",
    "from selenium import webdriver\n",
    "from io import StringIO\n",
    "from datetime import datetime\n",
    "from dateutil.parser import parse"
   ]
  },
  {
   "cell_type": "code",
   "execution_count": 58,
   "id": "6f353272-e404-4fe2-a50d-b525ed169c68",
   "metadata": {
    "scrolled": true
   },
   "outputs": [],
   "source": [
    "def extract_date_parts(date_str):\n",
    "    # Regular expression pattern to match the date, month, and end day\n",
    "    match = re.match(r'(\\w+)\\s+(\\d+)(?:\\s*-\\s*(\\d+))?,\\s+(\\d{4})', date_str)\n",
    "    if match:\n",
    "        day = int(match.group(2))\n",
    "        month = match.group(1)\n",
    "        end_day = int(match.group(3)) if match.group(3) else day\n",
    "        year = int(match.group(4))\n",
    "        return day, month, end_day, year\n",
    "    else:\n",
    "        raise ValueError(\"Invalid date format\")"
   ]
  },
  {
   "cell_type": "code",
   "execution_count": 59,
   "id": "d58b3d99-fe4b-46bc-a30c-11c00cf72488",
   "metadata": {},
   "outputs": [],
   "source": [
    "# Find the specific div element using the provided XPath expression\n",
    "match_info = [\n",
    "    \"Qualifier 1 (D/N), Eden Gardens, May 27 - 28, 2014, Pepsi Indian Premier League\",\n",
    "    \"Eliminator (N), Brabourne, May 28, 2014, Pepsi Indian Premier League\",\n",
    "    \"Qualifier 2 (N), Wankhede, May 30, 2014, Pepsi Indian Premier League\",\n",
    "    \"Final (N), Bengaluru, June 01, 2014, Pepsi Indian Premier League\"\n",
    "    ]\n"
   ]
  },
  {
   "cell_type": "code",
   "execution_count": 60,
   "id": "7ebf583d-c748-4a0b-bcce-50b1de2925f2",
   "metadata": {
    "scrolled": true
   },
   "outputs": [
    {
     "name": "stdout",
     "output_type": "stream",
     "text": [
      "date_str: May 27 - 28, 2014\n",
      "(27, 'May', 28, 2014)\n",
      "Date Range: 27-May-2014 - 28-May-2014\n",
      "date_str: May 28, 2014\n",
      "(28, 'May', 28, 2014)\n",
      "date_str before parse: 'May 28, 2014'\n",
      "Date: 28-May-2014\n",
      "date_str: May 30, 2014\n",
      "(30, 'May', 30, 2014)\n",
      "date_str before parse: 'May 30, 2014'\n",
      "Date: 30-May-2014\n",
      "date_str: June 01, 2014\n",
      "(1, 'June', 1, 2014)\n",
      "date_str before parse: 'June 01, 2014'\n",
      "Date: 01-June-2014\n"
     ]
    }
   ],
   "source": [
    "# Extracting individual components\n",
    "for match in match_info:\n",
    "    match_parts = match.split(\", \")\n",
    "    innings = match_parts[0]\n",
    "    venue = match_parts[1]\n",
    "    date_str = \", \".join(match_parts[2:4])  # Include the year in the date string\n",
    "\n",
    "    print(f\"date_str: {date_str}\")\n",
    "    abc = extract_date_parts(date_str)\n",
    "    print(abc)\n",
    "    # Check if the string contains the delimiter \" - \"\n",
    "    if \" - \" in date_str:\n",
    "        # Extract day, month, year, and end day using the extract_date_parts function\n",
    "        day, month, end_day, year = extract_date_parts(date_str)\n",
    "        # Format the date string\n",
    "        if end_day != day:\n",
    "            start_date_str = parse(f\"{month} {day}, {year}\").strftime(\"%d-%B-%Y\")\n",
    "            end_date_str = parse(f\"{month} {end_day}, {year}\").strftime(\"%d-%B-%Y\")\n",
    "            print(f\"Date Range: {start_date_str} - {end_date_str}\")\n",
    "    else:\n",
    "        date_str = date_str.strip()  # Remove leading and trailing spaces\n",
    "        print(f\"date_str before parse: '{date_str}'\")  # Print date_str to debug\n",
    "        date_str = parse(date_str).strftime(\"%d-%B-%Y\")\n",
    "        print(f\"Date: {date_str}\")\n"
   ]
  },
  {
   "cell_type": "code",
   "execution_count": null,
   "id": "4084d39e-8761-492f-86ab-5072d396baaf",
   "metadata": {},
   "outputs": [],
   "source": []
  }
 ],
 "metadata": {
  "kernelspec": {
   "display_name": "Python 3 (ipykernel)",
   "language": "python",
   "name": "python3"
  },
  "language_info": {
   "codemirror_mode": {
    "name": "ipython",
    "version": 3
   },
   "file_extension": ".py",
   "mimetype": "text/x-python",
   "name": "python",
   "nbconvert_exporter": "python",
   "pygments_lexer": "ipython3",
   "version": "3.12.3"
  }
 },
 "nbformat": 4,
 "nbformat_minor": 5
}
